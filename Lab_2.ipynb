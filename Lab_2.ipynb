{
  "nbformat": 4,
  "nbformat_minor": 0,
  "metadata": {
    "colab": {
      "name": "Lab 2.ipynb",
      "provenance": [],
      "authorship_tag": "ABX9TyOxZR44fCjU6qxuswXtmsOT",
      "include_colab_link": true
    },
    "kernelspec": {
      "name": "python3",
      "display_name": "Python 3"
    }
  },
  "cells": [
    {
      "cell_type": "markdown",
      "metadata": {
        "id": "view-in-github",
        "colab_type": "text"
      },
      "source": [
        "<a href=\"https://colab.research.google.com/github/twesaj/hello-world/blob/main/Lab_2.ipynb\" target=\"_parent\"><img src=\"https://colab.research.google.com/assets/colab-badge.svg\" alt=\"Open In Colab\"/></a>"
      ]
    },
    {
      "cell_type": "markdown",
      "metadata": {
        "id": "RF-ltq625u8H"
      },
      "source": [
        "# LAB 2\n",
        "Twesa Mwaisemba\n",
        "03/10/2021\n",
        "Data Classification and Chatbots"
      ]
    },
    {
      "cell_type": "markdown",
      "metadata": {
        "id": "G1gE8PWi7l2K"
      },
      "source": [
        "##This script converts one value of a given temperature into four catgorical levels(hot, warm, cool and cold)."
      ]
    },
    {
      "cell_type": "code",
      "metadata": {
        "colab": {
          "base_uri": "https://localhost:8080/",
          "height": 232
        },
        "id": "0e8rH-nTnWmN",
        "outputId": "c2ba1ff9-fa42-4f82-c47f-af7c3b261299"
      },
      "source": [
        "#Function converts given temperature into four categories(hot,warm,cool and cold)\n",
        "\n",
        "def feelTemp(f):\n",
        " f = float(input('Enter the temperature in Farenheit here' ))\n",
        "if f >= 100:\n",
        "  print(\"it is hot.\")\n",
        "elif feelTemp in range(69,100):\n",
        "  print(\"it is warm.\")\n",
        "elif feelTemp in range(32,70):\n",
        "  print(\"it is cool.\")\n",
        "else:\n",
        "  print('it is cold')\n"
      ],
      "execution_count": null,
      "outputs": [
        {
          "output_type": "error",
          "ename": "TypeError",
          "evalue": "ignored",
          "traceback": [
            "\u001b[0;31m---------------------------------------------------------------------------\u001b[0m",
            "\u001b[0;31mTypeError\u001b[0m                                 Traceback (most recent call last)",
            "\u001b[0;32m<ipython-input-517-041b33c26a09>\u001b[0m in \u001b[0;36m<module>\u001b[0;34m()\u001b[0m\n\u001b[1;32m      3\u001b[0m \u001b[0;32mdef\u001b[0m \u001b[0mfeelTemp\u001b[0m\u001b[0;34m(\u001b[0m\u001b[0mf\u001b[0m\u001b[0;34m)\u001b[0m\u001b[0;34m:\u001b[0m\u001b[0;34m\u001b[0m\u001b[0;34m\u001b[0m\u001b[0m\n\u001b[1;32m      4\u001b[0m  \u001b[0mf\u001b[0m \u001b[0;34m=\u001b[0m \u001b[0mfloat\u001b[0m\u001b[0;34m(\u001b[0m\u001b[0minput\u001b[0m\u001b[0;34m(\u001b[0m\u001b[0;34m'Enter the temperature in Farenheit here'\u001b[0m \u001b[0;34m)\u001b[0m\u001b[0;34m)\u001b[0m\u001b[0;34m\u001b[0m\u001b[0;34m\u001b[0m\u001b[0m\n\u001b[0;32m----> 5\u001b[0;31m \u001b[0;32mif\u001b[0m \u001b[0mf\u001b[0m \u001b[0;34m>=\u001b[0m \u001b[0;36m100\u001b[0m\u001b[0;34m:\u001b[0m\u001b[0;34m\u001b[0m\u001b[0;34m\u001b[0m\u001b[0m\n\u001b[0m\u001b[1;32m      6\u001b[0m   \u001b[0mprint\u001b[0m\u001b[0;34m(\u001b[0m\u001b[0;34m\"it is hot.\"\u001b[0m\u001b[0;34m)\u001b[0m\u001b[0;34m\u001b[0m\u001b[0;34m\u001b[0m\u001b[0m\n\u001b[1;32m      7\u001b[0m \u001b[0;32melif\u001b[0m \u001b[0mfeelTemp\u001b[0m \u001b[0;32min\u001b[0m \u001b[0mrange\u001b[0m\u001b[0;34m(\u001b[0m\u001b[0;36m69\u001b[0m\u001b[0;34m,\u001b[0m\u001b[0;36m100\u001b[0m\u001b[0;34m)\u001b[0m\u001b[0;34m:\u001b[0m\u001b[0;34m\u001b[0m\u001b[0;34m\u001b[0m\u001b[0m\n",
            "\u001b[0;31mTypeError\u001b[0m: '>=' not supported between instances of 'str' and 'int'"
          ]
        }
      ]
    },
    {
      "cell_type": "markdown",
      "metadata": {
        "id": "keHPbsFVQ7gL"
      },
      "source": [
        "# This Script creates a chatbot"
      ]
    },
    {
      "cell_type": "code",
      "metadata": {
        "id": "avdc19WafwAG"
      },
      "source": [
        "name = input('Hello, what is your name?')\n",
        "\n",
        "\n",
        "help = input('What can i help you with today' +  name)\n",
        "if 'application' in help:\n",
        "  number = input(\"Please provide me with your application number\")\n",
        "  print('Hold, on let me track your application')\n",
        "elif \"complaint\" in help:\n",
        "  print('Your inquiry has been submitted')\n",
        "  agent = input('Would you like to speak with agent?') \n",
        "  print(agent)\n",
        "if \"yes\" in agent:\n",
        "  connection = (\"Hold on while I connect you to our agent\")\n",
        "  print(connection)\n",
        "\n",
        "else:\n",
        "    print(\"Thank you, for contacting Ruby Candles today \")\n",
        "  \n",
        "\n",
        "\n"
      ],
      "execution_count": null,
      "outputs": []
    }
  ]
}