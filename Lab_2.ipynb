{
  "nbformat": 4,
  "nbformat_minor": 0,
  "metadata": {
    "colab": {
      "name": "Lab 2.ipynb",
      "provenance": [],
      "authorship_tag": "ABX9TyMckKt+KDtcRZcEQiCyvQNt",
      "include_colab_link": true
    },
    "kernelspec": {
      "name": "python3",
      "display_name": "Python 3"
    }
  },
  "cells": [
    {
      "cell_type": "markdown",
      "metadata": {
        "id": "view-in-github",
        "colab_type": "text"
      },
      "source": [
        "<a href=\"https://colab.research.google.com/github/twesaj/hello-world/blob/main/Lab_2.ipynb\" target=\"_parent\"><img src=\"https://colab.research.google.com/assets/colab-badge.svg\" alt=\"Open In Colab\"/></a>"
      ]
    },
    {
      "cell_type": "markdown",
      "metadata": {
        "id": "RF-ltq625u8H"
      },
      "source": [
        "# LAB 2\n",
        "Twesa Mwaisemba\n",
        "03/10/2021\n",
        "Data Classification and Chatbots"
      ]
    },
    {
      "cell_type": "markdown",
      "metadata": {
        "id": "G1gE8PWi7l2K"
      },
      "source": [
        "##This script converts one value of a given temperature into four catgorical levels(hot, warm, cool and cold)."
      ]
    },
    {
      "cell_type": "code",
      "metadata": {
        "id": "0e8rH-nTnWmN"
      },
      "source": [
        "#Function converts given temperature into four categories(hot,warm,cool and cold)\n",
        "\n",
        "def feelTemp(f):\n",
        " f = float(input('Enter the temperature in Farenheit here' ))\n",
        "if feelTemp >= 100: # if feelTemp is greater than or equal to 100 it will print 'it is hot'\n",
        "  print(\"it is hot.\")\n",
        "elif feelTemp in range(69,100): # elif feelTemp is between 69 and 100 it will prnt 'it is warm'\n",
        "  print(\"it is warm.\")\n",
        "elif feelTemp in range(32,70): # elif feelTemp is between 32 and 70 it will print 'it is cool'\n",
        "  print(\"it is cool.\")\n",
        "else: feel < 32:     # This statement will print 'it is cold the temperature is below 32\n",
        "  print(\"it is cold.\")\n"
      ],
      "execution_count": null,
      "outputs": []
    },
    {
      "cell_type": "markdown",
      "metadata": {
        "id": "keHPbsFVQ7gL"
      },
      "source": [
        "# This Script creates a chatbot"
      ]
    },
    {
      "cell_type": "code",
      "metadata": {
        "id": "avdc19WafwAG"
      },
      "source": [
        "# This script creates a chatbot using if,elif,else and input statements\n",
        "\n",
        "name = input('Hello, what is your name?') #The input function  asks the user to type their name.\n",
        "\n",
        "help = input('What can i help you with today' +  name) # The input function in this asks the user to state what they need.\n",
        "if 'application' in help:\n",
        "  number = input(\"Please provide me with your application number\") # if the word application is inlcuded in their statement, application number input will be required\n",
        "  print('Hold on, let me track your application') #Input of the application number will print the statement('Hold on, let me track your application).\n",
        "elif \"complaint\" in help: \n",
        "  print('Your inquiry has been submitted') #if the word 'complaint' is included the statement, it will print 'your inquiry had been submitted'.\n",
        "  agent = input('Would you like to speak with agent?')\n",
        "  print(agent) # the input complaint statement is finalised by the user being asked if they would like to speak to an agent.\n",
        "if \"yes\" in agent:\n",
        "  connection = (\"Hold on while I connect you to our agent\")\n",
        "  print(connection) # if the user input statement included 'yes' the chatbot prints that the user is beign connected.\n",
        "\n",
        "else:\n",
        "    print(\"Thank you, for contacting Ruby Candles today \") #Else the chatbot will let the user know the chatbot session has ended by print 'Thank you...'\n",
        "  \n",
        "\n",
        "\n"
      ],
      "execution_count": null,
      "outputs": []
    }
  ]
}