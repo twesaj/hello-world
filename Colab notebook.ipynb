{
  "nbformat": 4,
  "nbformat_minor": 0,
  "metadata": {
    "colab": {
      "name": "Untitled2.ipynb",
      "provenance": [],
      "authorship_tag": "ABX9TyPoe5HDA6Kqdi9fFVgBK0Qa",
      "include_colab_link": true
    },
    "kernelspec": {
      "name": "python3",
      "display_name": "Python 3"
    }
  },
  "cells": [
    {
      "cell_type": "markdown",
      "metadata": {
        "id": "view-in-github",
        "colab_type": "text"
      },
      "source": [
        "<a href=\"https://colab.research.google.com/github/twesaj/hello-world/blob/main/Colab%20notebook.ipynb\" target=\"_parent\"><img src=\"https://colab.research.google.com/assets/colab-badge.svg\" alt=\"Open In Colab\"/></a>"
      ]
    },
    {
      "cell_type": "markdown",
      "metadata": {
        "id": "Y-pqti3m568h"
      },
      "source": [
        "# BELOW IS THE CODE FOR  LAB 1\n",
        "\n",
        "\n",
        "*   Information about this code\n",
        "*   created on 02/28/2021\n",
        "*   Python version 3\n",
        "*   Agricultural land and rain runoff in Kenya\n",
        "\n",
        "\n"
      ]
    },
    {
      "cell_type": "code",
      "metadata": {
        "colab": {
          "base_uri": "https://localhost:8080/"
        },
        "id": "EMiP8ujpq-8L",
        "outputId": "1eea9162-534a-4b8a-9929-f28870d2171b"
      },
      "source": [
        "# Variable 1\n",
        "plot_length=50\n",
        "print(plot_length)\n"
      ],
      "execution_count": 15,
      "outputs": [
        {
          "output_type": "stream",
          "text": [
            "50\n"
          ],
          "name": "stdout"
        }
      ]
    },
    {
      "cell_type": "code",
      "metadata": {
        "colab": {
          "base_uri": "https://localhost:8080/"
        },
        "id": "ys2z8DULsY29",
        "outputId": "2f5ecfd0-c4ca-421f-8014-93c3997952e1"
      },
      "source": [
        "# Variable 2\n",
        "plot_width=20\n",
        "print(plot_width)\n"
      ],
      "execution_count": 4,
      "outputs": [
        {
          "output_type": "stream",
          "text": [
            "20\n"
          ],
          "name": "stdout"
        }
      ]
    },
    {
      "cell_type": "markdown",
      "metadata": {
        "id": "Z1FyBNfazuLH"
      },
      "source": [
        "Calculations for the runoff"
      ]
    },
    {
      "cell_type": "code",
      "metadata": {
        "colab": {
          "base_uri": "https://localhost:8080/"
        },
        "id": "wwlDm2-4wvWZ",
        "outputId": "7e7f918f-286c-4bcd-a07a-6a433c9fd199"
      },
      "source": [
        "# Conversion of length to inches\n",
        "length_conversion= plot_length*12\n",
        "print(length_conversion)"
      ],
      "execution_count": 36,
      "outputs": [
        {
          "output_type": "stream",
          "text": [
            "600\n"
          ],
          "name": "stdout"
        }
      ]
    },
    {
      "cell_type": "code",
      "metadata": {
        "colab": {
          "base_uri": "https://localhost:8080/"
        },
        "id": "AVBbxOBexRlC",
        "outputId": "26b1b63a-6b81-4ecd-958e-fe1e8e57d137"
      },
      "source": [
        "# Conversion of width footprint to inches\n",
        "width_conversion= plot_width*12\n",
        "print(width_conversion)"
      ],
      "execution_count": 37,
      "outputs": [
        {
          "output_type": "stream",
          "text": [
            "240\n"
          ],
          "name": "stdout"
        }
      ]
    },
    {
      "cell_type": "code",
      "metadata": {
        "colab": {
          "base_uri": "https://localhost:8080/"
        },
        "id": "eJmqTFGLzCcH",
        "outputId": "bb868b27-1543-45db-995a-5f07ee2a76b6"
      },
      "source": [
        "# Conversion of land footprint to cubic inches\n",
        "rainfall_inches=(length_conversion*width_conversion*1)\n",
        "print(rainfall_inches)"
      ],
      "execution_count": 39,
      "outputs": [
        {
          "output_type": "stream",
          "text": [
            "144000\n"
          ],
          "name": "stdout"
        }
      ]
    },
    {
      "cell_type": "code",
      "metadata": {
        "colab": {
          "base_uri": "https://localhost:8080/"
        },
        "id": "TP4-WyaS3OTC",
        "outputId": "9e056d41-1f54-48bc-ab6f-f329bb830cf7"
      },
      "source": [
        "# Conversion of cubic inches to gallons\n",
        "rainfall_gallons=(rainfall_inches/231)\n",
        "print(rainfall_gallons)"
      ],
      "execution_count": 33,
      "outputs": [
        {
          "output_type": "stream",
          "text": [
            "623.3766233766233\n"
          ],
          "name": "stdout"
        }
      ]
    },
    {
      "cell_type": "markdown",
      "metadata": {
        "id": "G8ZxIm-h9z2C"
      },
      "source": [
        "Here goes the results:"
      ]
    },
    {
      "cell_type": "code",
      "metadata": {
        "colab": {
          "base_uri": "https://localhost:8080/"
        },
        "id": "rTjfEPSB02ti",
        "outputId": "9e7deb6a-048e-4cc7-9f69-f58457c8e9ed"
      },
      "source": [
        "plot_length\n",
        "print(plot_length)"
      ],
      "execution_count": 31,
      "outputs": [
        {
          "output_type": "stream",
          "text": [
            "50\n"
          ],
          "name": "stdout"
        }
      ]
    },
    {
      "cell_type": "code",
      "metadata": {
        "colab": {
          "base_uri": "https://localhost:8080/"
        },
        "id": "AgfqjGyP9PZJ",
        "outputId": "9c981c04-56c1-4365-ff52-4d4bc8063a03"
      },
      "source": [
        "plot_width\n",
        "print(plot_width)"
      ],
      "execution_count": 32,
      "outputs": [
        {
          "output_type": "stream",
          "text": [
            "20\n"
          ],
          "name": "stdout"
        }
      ]
    },
    {
      "cell_type": "code",
      "metadata": {
        "colab": {
          "base_uri": "https://localhost:8080/"
        },
        "id": "Z1wZqS-l3GRX",
        "outputId": "c1d96e1d-0b6a-42b8-c424-8f83f3f49416"
      },
      "source": [
        "rainfall_inches\n",
        "print(rainfall_inches)"
      ],
      "execution_count": 25,
      "outputs": [
        {
          "output_type": "stream",
          "text": [
            "144000\n"
          ],
          "name": "stdout"
        }
      ]
    },
    {
      "cell_type": "code",
      "metadata": {
        "colab": {
          "base_uri": "https://localhost:8080/"
        },
        "id": "veafIUnZ319I",
        "outputId": "398cc090-c938-4836-ea74-9f04ef1621f1"
      },
      "source": [
        "rainfall_gallons\n",
        "print(rainfall_gallons)"
      ],
      "execution_count": 27,
      "outputs": [
        {
          "output_type": "stream",
          "text": [
            "623.3766233766233\n"
          ],
          "name": "stdout"
        }
      ]
    }
  ]
}