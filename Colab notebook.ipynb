{
  "nbformat": 4,
  "nbformat_minor": 0,
  "metadata": {
    "colab": {
      "name": "Untitled2.ipynb",
      "provenance": [],
      "authorship_tag": "ABX9TyP+AmCNIWZWSyvLSVziNg4Y",
      "include_colab_link": true
    },
    "kernelspec": {
      "name": "python3",
      "display_name": "Python 3"
    }
  },
  "cells": [
    {
      "cell_type": "markdown",
      "metadata": {
        "id": "view-in-github",
        "colab_type": "text"
      },
      "source": [
        "<a href=\"https://colab.research.google.com/github/twesaj/hello-world/blob/main/Colab%20notebook.ipynb\" target=\"_parent\"><img src=\"https://colab.research.google.com/assets/colab-badge.svg\" alt=\"Open In Colab\"/></a>"
      ]
    },
    {
      "cell_type": "markdown",
      "metadata": {
        "id": "OJ13IULKbk4P"
      },
      "source": [
        "Twesa's Colab Notebook"
      ]
    },
    {
      "cell_type": "markdown",
      "metadata": {
        "id": "KC_-F9Dd44a-"
      },
      "source": [
        "TWESA MWAISEMBA\n",
        "02/28/2021\n",
        "PYTHON 3\n",
        "Agricultural land and rain runfall in Kenya"
      ]
    },
    {
      "cell_type": "markdown",
      "metadata": {
        "id": "1fcQE34tv8um"
      },
      "source": [
        "Variables"
      ]
    },
    {
      "cell_type": "code",
      "metadata": {
        "id": "EMiP8ujpq-8L",
        "outputId": "1eea9162-534a-4b8a-9929-f28870d2171b",
        "colab": {
          "base_uri": "https://localhost:8080/"
        }
      },
      "source": [
        "plot_length=50\n",
        "print(plot_length)\n"
      ],
      "execution_count": 15,
      "outputs": [
        {
          "output_type": "stream",
          "text": [
            "50\n"
          ],
          "name": "stdout"
        }
      ]
    },
    {
      "cell_type": "code",
      "metadata": {
        "id": "ys2z8DULsY29",
        "outputId": "2f5ecfd0-c4ca-421f-8014-93c3997952e1",
        "colab": {
          "base_uri": "https://localhost:8080/"
        }
      },
      "source": [
        "plot_width=20\n",
        "print(plot_width)\n"
      ],
      "execution_count": 4,
      "outputs": [
        {
          "output_type": "stream",
          "text": [
            "20\n"
          ],
          "name": "stdout"
        }
      ]
    },
    {
      "cell_type": "markdown",
      "metadata": {
        "id": "Z1FyBNfazuLH"
      },
      "source": [
        "Calculations for the runoff"
      ]
    },
    {
      "cell_type": "markdown",
      "metadata": {
        "id": "WHjgAyrtv4QZ"
      },
      "source": [
        "Conversion land footprint to inches\n"
      ]
    },
    {
      "cell_type": "code",
      "metadata": {
        "id": "wwlDm2-4wvWZ",
        "outputId": "05a82c69-7d41-4f0a-ddfc-cf01133f2431",
        "colab": {
          "base_uri": "https://localhost:8080/"
        }
      },
      "source": [
        "plot_length=50\n",
        "print(plot_length*12)"
      ],
      "execution_count": 16,
      "outputs": [
        {
          "output_type": "stream",
          "text": [
            "600\n"
          ],
          "name": "stdout"
        }
      ]
    },
    {
      "cell_type": "code",
      "metadata": {
        "id": "AVBbxOBexRlC",
        "outputId": "cfca6274-c0a9-4c9f-b823-0565cac53559",
        "colab": {
          "base_uri": "https://localhost:8080/"
        }
      },
      "source": [
        "plot_width=20\n",
        "print(plot_width*12)"
      ],
      "execution_count": 17,
      "outputs": [
        {
          "output_type": "stream",
          "text": [
            "240\n"
          ],
          "name": "stdout"
        }
      ]
    },
    {
      "cell_type": "markdown",
      "metadata": {
        "id": "IKkmjyGrxnYg"
      },
      "source": [
        "Conversion inches of land footprint to cubic inches"
      ]
    },
    {
      "cell_type": "code",
      "metadata": {
        "id": "eJmqTFGLzCcH",
        "outputId": "9a5cc00b-a64c-4fcc-a8a8-45186e5092cb",
        "colab": {
          "base_uri": "https://localhost:8080/"
        }
      },
      "source": [
        "rainfall_inches=(600*240*1)\n",
        "print(rainfall_inches)"
      ],
      "execution_count": 24,
      "outputs": [
        {
          "output_type": "stream",
          "text": [
            "144000\n"
          ],
          "name": "stdout"
        }
      ]
    },
    {
      "cell_type": "markdown",
      "metadata": {
        "id": "P4yEzjZ4yB3O"
      },
      "source": [
        "Conversion of inches to gallons"
      ]
    },
    {
      "cell_type": "code",
      "metadata": {
        "id": "TP4-WyaS3OTC",
        "outputId": "2298c778-8059-48f8-a25d-9fe6194c79c1",
        "colab": {
          "base_uri": "https://localhost:8080/"
        }
      },
      "source": [
        "rainfall_gallons=(land_area/231)\n",
        "print(rainfall_gallons)"
      ],
      "execution_count": 22,
      "outputs": [
        {
          "output_type": "stream",
          "text": [
            "623.3766233766233\n"
          ],
          "name": "stdout"
        }
      ]
    },
    {
      "cell_type": "markdown",
      "metadata": {
        "id": "LaxCSUWV0y3B"
      },
      "source": [
        "RESULTS"
      ]
    },
    {
      "cell_type": "code",
      "metadata": {
        "id": "rTjfEPSB02ti",
        "outputId": "737afd1b-6a43-48b9-bdb2-19b802566656",
        "colab": {
          "base_uri": "https://localhost:8080/"
        }
      },
      "source": [
        "plot_length\n",
        "print(plot_length)"
      ],
      "execution_count": 18,
      "outputs": [
        {
          "output_type": "stream",
          "text": [
            "50\n"
          ],
          "name": "stdout"
        }
      ]
    },
    {
      "cell_type": "code",
      "metadata": {
        "id": "wx2PRjc326fq",
        "outputId": "00f382de-5f2c-4ad7-f583-4ff1432afc4e",
        "colab": {
          "base_uri": "https://localhost:8080/"
        }
      },
      "source": [
        "plot_width\n",
        "print(plot_width)"
      ],
      "execution_count": 19,
      "outputs": [
        {
          "output_type": "stream",
          "text": [
            "20\n"
          ],
          "name": "stdout"
        }
      ]
    },
    {
      "cell_type": "code",
      "metadata": {
        "id": "Z1wZqS-l3GRX",
        "outputId": "c1d96e1d-0b6a-42b8-c424-8f83f3f49416",
        "colab": {
          "base_uri": "https://localhost:8080/"
        }
      },
      "source": [
        "rainfall_inches\n",
        "print(rainfall_inches)"
      ],
      "execution_count": 25,
      "outputs": [
        {
          "output_type": "stream",
          "text": [
            "144000\n"
          ],
          "name": "stdout"
        }
      ]
    },
    {
      "cell_type": "code",
      "metadata": {
        "id": "veafIUnZ319I",
        "outputId": "398cc090-c938-4836-ea74-9f04ef1621f1",
        "colab": {
          "base_uri": "https://localhost:8080/"
        }
      },
      "source": [
        "rainfall_gallons\n",
        "print(rainfall_gallons)"
      ],
      "execution_count": 27,
      "outputs": [
        {
          "output_type": "stream",
          "text": [
            "623.3766233766233\n"
          ],
          "name": "stdout"
        }
      ]
    }
  ]
}