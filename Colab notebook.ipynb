{
  "nbformat": 4,
  "nbformat_minor": 0,
  "metadata": {
    "colab": {
      "name": "Untitled2.ipynb",
      "provenance": [],
      "authorship_tag": "ABX9TyP9Gj/C0kwE8JyYky9GohA4",
      "include_colab_link": true
    },
    "kernelspec": {
      "name": "python3",
      "display_name": "Python 3"
    }
  },
  "cells": [
    {
      "cell_type": "markdown",
      "metadata": {
        "id": "view-in-github",
        "colab_type": "text"
      },
      "source": [
        "<a href=\"https://colab.research.google.com/github/twesaj/hello-world/blob/main/Colab%20notebook.ipynb\" target=\"_parent\"><img src=\"https://colab.research.google.com/assets/colab-badge.svg\" alt=\"Open In Colab\"/></a>"
      ]
    },
    {
      "cell_type": "markdown",
      "metadata": {
        "id": "Y-pqti3m568h"
      },
      "source": [
        "# BELOW IS THE CODE FOR  LAB 1\n",
        "\n",
        "TWESA MWAISEMBA\n",
        "*   Information about this code\n",
        "*   created on 02/28/2021\n",
        "*   Python version 3\n",
        "*   Agricultural land and rain runoff in Kenya\n",
        "\n",
        "\n"
      ]
    },
    {
      "cell_type": "code",
      "metadata": {
        "colab": {
          "base_uri": "https://localhost:8080/"
        },
        "id": "EMiP8ujpq-8L",
        "outputId": "d73a22d2-4517-4eec-906a-61a57b49ca93"
      },
      "source": [
        "# Variable 1\n",
        "plot_length=50\n",
        "print(plot_length)\n"
      ],
      "execution_count": 62,
      "outputs": [
        {
          "output_type": "stream",
          "text": [
            "50\n"
          ],
          "name": "stdout"
        }
      ]
    },
    {
      "cell_type": "code",
      "metadata": {
        "colab": {
          "base_uri": "https://localhost:8080/"
        },
        "id": "ys2z8DULsY29",
        "outputId": "c623142f-dcb1-45ff-fd28-174b0982a9f1"
      },
      "source": [
        "# Variable 2\n",
        "plot_width=20\n",
        "print(plot_width)\n"
      ],
      "execution_count": 63,
      "outputs": [
        {
          "output_type": "stream",
          "text": [
            "20\n"
          ],
          "name": "stdout"
        }
      ]
    },
    {
      "cell_type": "code",
      "metadata": {
        "id": "HOCP-xYMPHsY",
        "outputId": "2c0d3bcf-b11b-45bd-f142-ddc1f99a4928",
        "colab": {
          "base_uri": "https://localhost:8080/"
        }
      },
      "source": [
        "# Varibale 3\n",
        "rainfall_inch = 1\n",
        "print(rainfall_inch)"
      ],
      "execution_count": 110,
      "outputs": [
        {
          "output_type": "stream",
          "text": [
            "1\n"
          ],
          "name": "stdout"
        }
      ]
    },
    {
      "cell_type": "markdown",
      "metadata": {
        "id": "5gwhwksEOku9"
      },
      "source": [
        "# CALCULATIONS "
      ]
    },
    {
      "cell_type": "code",
      "metadata": {
        "colab": {
          "base_uri": "https://localhost:8080/"
        },
        "id": "wwlDm2-4wvWZ",
        "outputId": "cba16eca-0dcc-470b-baff-75b97a8869b1"
      },
      "source": [
        "# Conversion of length to inches\n",
        "length_conversion= plot_length*12\n",
        "print(length_conversion)"
      ],
      "execution_count": 64,
      "outputs": [
        {
          "output_type": "stream",
          "text": [
            "600\n"
          ],
          "name": "stdout"
        }
      ]
    },
    {
      "cell_type": "code",
      "metadata": {
        "colab": {
          "base_uri": "https://localhost:8080/"
        },
        "id": "AVBbxOBexRlC",
        "outputId": "26b1b63a-6b81-4ecd-958e-fe1e8e57d137"
      },
      "source": [
        "# Conversion of width footprint to inches\n",
        "width_conversion= plot_width*12\n",
        "print(width_conversion)"
      ],
      "execution_count": 37,
      "outputs": [
        {
          "output_type": "stream",
          "text": [
            "240\n"
          ],
          "name": "stdout"
        }
      ]
    },
    {
      "cell_type": "code",
      "metadata": {
        "colab": {
          "base_uri": "https://localhost:8080/"
        },
        "id": "eJmqTFGLzCcH",
        "outputId": "bb868b27-1543-45db-995a-5f07ee2a76b6"
      },
      "source": [
        "# Conversion of land footprint to cubic inches\n",
        "rainfall_inches=(length_conversion*width_conversion*1)\n",
        "print(rainfall_inches)"
      ],
      "execution_count": 39,
      "outputs": [
        {
          "output_type": "stream",
          "text": [
            "144000\n"
          ],
          "name": "stdout"
        }
      ]
    },
    {
      "cell_type": "code",
      "metadata": {
        "colab": {
          "base_uri": "https://localhost:8080/"
        },
        "id": "TP4-WyaS3OTC",
        "outputId": "9e056d41-1f54-48bc-ab6f-f329bb830cf7"
      },
      "source": [
        "# Conversion of cubic inches to gallons\n",
        "rainfall_gallons=(rainfall_inches/231)\n",
        "print(rainfall_gallons)"
      ],
      "execution_count": 33,
      "outputs": [
        {
          "output_type": "stream",
          "text": [
            "623.3766233766233\n"
          ],
          "name": "stdout"
        }
      ]
    },
    {
      "cell_type": "markdown",
      "metadata": {
        "id": "30w5VHPiOsBv"
      },
      "source": [
        "# Results"
      ]
    },
    {
      "cell_type": "code",
      "metadata": {
        "colab": {
          "base_uri": "https://localhost:8080/"
        },
        "id": "rTjfEPSB02ti",
        "outputId": "4a2d94c7-f719-43c6-b632-033f1f986487"
      },
      "source": [
        "print(\"plot length is\",plot_length,\"m\")"
      ],
      "execution_count": 106,
      "outputs": [
        {
          "output_type": "stream",
          "text": [
            "plot length is 50 m\n"
          ],
          "name": "stdout"
        }
      ]
    },
    {
      "cell_type": "code",
      "metadata": {
        "colab": {
          "base_uri": "https://localhost:8080/"
        },
        "id": "AgfqjGyP9PZJ",
        "outputId": "56c3f403-144a-4e4c-8b31-d6204866fe07"
      },
      "source": [
        "print(\"plot width is\",plot_width, \"m\")"
      ],
      "execution_count": 107,
      "outputs": [
        {
          "output_type": "stream",
          "text": [
            "plot width is 20 m\n"
          ],
          "name": "stdout"
        }
      ]
    },
    {
      "cell_type": "code",
      "metadata": {
        "colab": {
          "base_uri": "https://localhost:8080/"
        },
        "id": "Z1wZqS-l3GRX",
        "outputId": "6e76fc88-5362-4bff-b1cc-fbee5930297a"
      },
      "source": [
        "print(\"rainfall inches is\",rainfall_inches, \"inches\")"
      ],
      "execution_count": 108,
      "outputs": [
        {
          "output_type": "stream",
          "text": [
            "rainfall inches is 144000 inches\n"
          ],
          "name": "stdout"
        }
      ]
    },
    {
      "cell_type": "code",
      "metadata": {
        "colab": {
          "base_uri": "https://localhost:8080/"
        },
        "id": "veafIUnZ319I",
        "outputId": "96c450b5-2fb3-4f50-e5c4-6fe78282eb68"
      },
      "source": [
        "print(\"rainfall inches is\",rainfall_gallons, \"gallons\")"
      ],
      "execution_count": 109,
      "outputs": [
        {
          "output_type": "stream",
          "text": [
            "rainfall inches is 623.3766233766233 gallons\n"
          ],
          "name": "stdout"
        }
      ]
    }
  ]
}