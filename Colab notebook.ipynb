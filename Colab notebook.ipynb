{
  "nbformat": 4,
  "nbformat_minor": 0,
  "metadata": {
    "colab": {
      "name": "Untitled2.ipynb",
      "provenance": [],
      "authorship_tag": "ABX9TyM6fVeFASEApsIH++5ebiNg",
      "include_colab_link": true
    },
    "kernelspec": {
      "name": "python3",
      "display_name": "Python 3"
    }
  },
  "cells": [
    {
      "cell_type": "markdown",
      "metadata": {
        "id": "view-in-github",
        "colab_type": "text"
      },
      "source": [
        "<a href=\"https://colab.research.google.com/github/twesaj/hello-world/blob/main/Colab%20notebook.ipynb\" target=\"_parent\"><img src=\"https://colab.research.google.com/assets/colab-badge.svg\" alt=\"Open In Colab\"/></a>"
      ]
    },
    {
      "cell_type": "markdown",
      "metadata": {
        "id": "Y-pqti3m568h"
      },
      "source": [
        "# BELOW IS THE CODE FOR  LAB 1\n",
        "\n",
        "TWESA MWAISEMBA\n",
        "*   Information about this code\n",
        "*   created on 02/28/2021\n",
        "*   Python version 3\n",
        "*   Agricultural land and rain runoff in Kenya\n",
        "\n",
        "\n"
      ]
    },
    {
      "cell_type": "code",
      "metadata": {
        "colab": {
          "base_uri": "https://localhost:8080/"
        },
        "id": "EMiP8ujpq-8L",
        "outputId": "a32eff56-724c-4f83-c55e-10b3b4dab61f"
      },
      "source": [
        "# Variable 1\n",
        "plot_length=50\n",
        "print(plot_length)\n"
      ],
      "execution_count": 20,
      "outputs": [
        {
          "output_type": "stream",
          "text": [
            "50\n"
          ],
          "name": "stdout"
        }
      ]
    },
    {
      "cell_type": "code",
      "metadata": {
        "colab": {
          "base_uri": "https://localhost:8080/"
        },
        "id": "ys2z8DULsY29",
        "outputId": "9255d995-bb16-4955-c05a-31e86273d2cb"
      },
      "source": [
        "# Variable 2\n",
        "plot_width=20\n",
        "print(plot_width)\n"
      ],
      "execution_count": 19,
      "outputs": [
        {
          "output_type": "stream",
          "text": [
            "20\n"
          ],
          "name": "stdout"
        }
      ]
    },
    {
      "cell_type": "code",
      "metadata": {
        "id": "HOCP-xYMPHsY",
        "colab": {
          "base_uri": "https://localhost:8080/"
        },
        "outputId": "30ccfdc2-0518-424e-a1af-ca4a4cfd86cc"
      },
      "source": [
        "# Varibale 3\n",
        "rainfall_inch = 1\n",
        "print(rainfall_inch)"
      ],
      "execution_count": 18,
      "outputs": [
        {
          "output_type": "stream",
          "text": [
            "1\n"
          ],
          "name": "stdout"
        }
      ]
    },
    {
      "cell_type": "markdown",
      "metadata": {
        "id": "5gwhwksEOku9"
      },
      "source": [
        "# CALCULATIONS "
      ]
    },
    {
      "cell_type": "code",
      "metadata": {
        "colab": {
          "base_uri": "https://localhost:8080/"
        },
        "id": "wwlDm2-4wvWZ",
        "outputId": "2130433b-7016-4036-f981-e90089dda35d"
      },
      "source": [
        "# Conversion of length to inches\n",
        "length_conversion= plot_length*12\n",
        "print(length_conversion)"
      ],
      "execution_count": 21,
      "outputs": [
        {
          "output_type": "stream",
          "text": [
            "600\n"
          ],
          "name": "stdout"
        }
      ]
    },
    {
      "cell_type": "code",
      "metadata": {
        "colab": {
          "base_uri": "https://localhost:8080/"
        },
        "id": "AVBbxOBexRlC",
        "outputId": "68d9d7d4-1ca5-4239-f8a7-e1c9cec9f1d1"
      },
      "source": [
        "# Conversion of width footprint to inches\n",
        "width_conversion= plot_width*12\n",
        "print(width_conversion)"
      ],
      "execution_count": 22,
      "outputs": [
        {
          "output_type": "stream",
          "text": [
            "240\n"
          ],
          "name": "stdout"
        }
      ]
    },
    {
      "cell_type": "code",
      "metadata": {
        "colab": {
          "base_uri": "https://localhost:8080/"
        },
        "id": "eJmqTFGLzCcH",
        "outputId": "c148c8e5-cd30-4cd9-ab64-490b4ed9d7ef"
      },
      "source": [
        "# Conversion of land footprint to cubic inches\n",
        "rainfall_inches=(length_conversion*width_conversion*1)\n",
        "print(rainfall_inches)"
      ],
      "execution_count": 23,
      "outputs": [
        {
          "output_type": "stream",
          "text": [
            "144000\n"
          ],
          "name": "stdout"
        }
      ]
    },
    {
      "cell_type": "code",
      "metadata": {
        "colab": {
          "base_uri": "https://localhost:8080/"
        },
        "id": "TP4-WyaS3OTC",
        "outputId": "ed44f2cf-410b-4aa4-e57b-918e5adde516"
      },
      "source": [
        "# Conversion of cubic inches to gallons\n",
        "rainfall_gallons=(rainfall_inches/231)\n",
        "print(rainfall_gallons)"
      ],
      "execution_count": 24,
      "outputs": [
        {
          "output_type": "stream",
          "text": [
            "623.3766233766233\n"
          ],
          "name": "stdout"
        }
      ]
    },
    {
      "cell_type": "code",
      "metadata": {
        "id": "4waMynVQ7YZx",
        "outputId": "12ec0275-f957-4d32-8241-c9cc756066c7",
        "colab": {
          "base_uri": "https://localhost:8080/"
        }
      },
      "source": [
        "# round rainfall_gallons to the nearest hundred\n",
        "round(rainfall_gallons)"
      ],
      "execution_count": 44,
      "outputs": [
        {
          "output_type": "execute_result",
          "data": {
            "text/plain": [
              "623"
            ]
          },
          "metadata": {
            "tags": []
          },
          "execution_count": 44
        }
      ]
    },
    {
      "cell_type": "markdown",
      "metadata": {
        "id": "30w5VHPiOsBv"
      },
      "source": [
        "# Results"
      ]
    },
    {
      "cell_type": "code",
      "metadata": {
        "colab": {
          "base_uri": "https://localhost:8080/"
        },
        "id": "rTjfEPSB02ti",
        "outputId": "184d8048-cb61-45ad-b3ee-5676a574c735"
      },
      "source": [
        "print(\"plot length is\",plot_length,\"m\")"
      ],
      "execution_count": 25,
      "outputs": [
        {
          "output_type": "stream",
          "text": [
            "plot length is 50 m\n"
          ],
          "name": "stdout"
        }
      ]
    },
    {
      "cell_type": "code",
      "metadata": {
        "colab": {
          "base_uri": "https://localhost:8080/"
        },
        "id": "AgfqjGyP9PZJ",
        "outputId": "04f93105-9b05-481d-83ba-e60a3c3468d8"
      },
      "source": [
        "print(\"plot width is\",plot_width, \"m\")"
      ],
      "execution_count": 26,
      "outputs": [
        {
          "output_type": "stream",
          "text": [
            "plot width is 20 m\n"
          ],
          "name": "stdout"
        }
      ]
    },
    {
      "cell_type": "code",
      "metadata": {
        "colab": {
          "base_uri": "https://localhost:8080/"
        },
        "id": "Z1wZqS-l3GRX",
        "outputId": "5939d4ca-fdb9-48e4-b65c-733a4a14780b"
      },
      "source": [
        "print(\"rainfall inches is\",rainfall_inches, \"inches\")"
      ],
      "execution_count": 27,
      "outputs": [
        {
          "output_type": "stream",
          "text": [
            "rainfall inches is 144000 inches\n"
          ],
          "name": "stdout"
        }
      ]
    },
    {
      "cell_type": "code",
      "metadata": {
        "id": "NeheVqFF7jj4",
        "outputId": "7e750614-7ce3-4cc6-dfc8-0c9d0d766df3",
        "colab": {
          "base_uri": "https://localhost:8080/"
        }
      },
      "source": [
        "print(\"runoff gallons is\",round(rainfall_gallons),\"gallons\")"
      ],
      "execution_count": 46,
      "outputs": [
        {
          "output_type": "stream",
          "text": [
            "runoff gallons is 623 gallons\n"
          ],
          "name": "stdout"
        }
      ]
    }
  ]
}