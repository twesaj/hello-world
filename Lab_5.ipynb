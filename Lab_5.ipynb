{
  "nbformat": 4,
  "nbformat_minor": 0,
  "metadata": {
    "colab": {
      "name": "Lab 5",
      "provenance": [],
      "authorship_tag": "ABX9TyMcyEVUjAwLrjeYt3FB+iAk",
      "include_colab_link": true
    },
    "kernelspec": {
      "name": "python3",
      "display_name": "Python 3"
    },
    "language_info": {
      "name": "python"
    }
  },
  "cells": [
    {
      "cell_type": "markdown",
      "metadata": {
        "id": "view-in-github",
        "colab_type": "text"
      },
      "source": [
        "<a href=\"https://colab.research.google.com/github/twesaj/hello-world/blob/main/Lab_5.ipynb\" target=\"_parent\"><img src=\"https://colab.research.google.com/assets/colab-badge.svg\" alt=\"Open In Colab\"/></a>"
      ]
    },
    {
      "cell_type": "markdown",
      "metadata": {
        "id": "T4UhIpyNbdL7"
      },
      "source": [
        "# Twesa Mwaisemba\n",
        "# Lab 5 - Dictionaries\n",
        "# 4/4/2012\n",
        "# This script Create a dictionary with 5 key-value pairs consisting of a country name and an integer that represents the number of refugees in refugee camps in the 5 countries, for a year of 2014. "
      ]
    },
    {
      "cell_type": "code",
      "metadata": {
        "colab": {
          "base_uri": "https://localhost:8080/"
        },
        "id": "BoQfPsQHNQlZ",
        "outputId": "cc9f864a-3ab1-4742-d519-8df11f949d86"
      },
      "source": [
        "my_dict = {\n",
        "  \"key1\":\"value1\",\n",
        "  \"key2\":\"value2\"\n",
        "}\n",
        "pop = {'5874, 90000, 2833, 7001, 5257'}  \n",
        "countries = {\"malawi\", \"algeria\", \"bostwana\", \"burundi\", \"liberia\"} \n",
        "#convert the population data to a Dictionary.\n",
        "#convert the country keys  to a Dictionary.\n",
        "refugee_pop_2014 = {'malawi': 5874, 'algeria': 90000, 'bostwana': 2833, 'burundi': 7001, 'liberia': 5257}\n",
        "#Call out the dictionary \n",
        "print(refugee_pop_2014)\n",
        "\n"
      ],
      "execution_count": 79,
      "outputs": [
        {
          "output_type": "stream",
          "text": [
            "{'malawi': 5874, 'algeria': 90000, 'bostwana': 2833, 'burundi': 7001, 'liberia': 5257}\n"
          ],
          "name": "stdout"
        }
      ]
    },
    {
      "cell_type": "code",
      "metadata": {
        "colab": {
          "base_uri": "https://localhost:8080/"
        },
        "id": "4f3H1o86lzdi",
        "outputId": "42b662cd-8560-4eba-dc04-cc3f95ecfeb5"
      },
      "source": [
        "#define the function that calls out the population\n",
        "refugee_population_2014 = {'malawi': 5874, 'algeria': 90000, 'bostwana': 2833, 'burundi': 7001, 'liberia': 5257}\n",
        "def printDictionary(dicInput):\n",
        "  for (x,y) in dicInput.items():\n",
        "    print(y)\n",
        "printDictionary(refugee_population_2014)"
      ],
      "execution_count": 83,
      "outputs": [
        {
          "output_type": "stream",
          "text": [
            "5874\n",
            "90000\n",
            "2833\n",
            "7001\n",
            "5257\n"
          ],
          "name": "stdout"
        }
      ]
    },
    {
      "cell_type": "code",
      "metadata": {
        "colab": {
          "base_uri": "https://localhost:8080/"
        },
        "id": "PriIWGCcl-Xm",
        "outputId": "2bed8944-9121-4da3-9260-07ee51a3175c"
      },
      "source": [
        "#define the function that calls out the countries names\n",
        "refugee_population_2014 = {'malawi': 5874, 'algeria': 90000, 'bostwana': 2833, 'burundi': 7001, 'liberia': 5257}\n",
        "def printDictionary(dicInput):\n",
        "  for (x,y) in dicInput.items():\n",
        "    print(x)\n",
        "printDictionary(refugee_population_2014)"
      ],
      "execution_count": 84,
      "outputs": [
        {
          "output_type": "stream",
          "text": [
            "malawi\n",
            "algeria\n",
            "bostwana\n",
            "burundi\n",
            "liberia\n"
          ],
          "name": "stdout"
        }
      ]
    },
    {
      "cell_type": "code",
      "metadata": {
        "colab": {
          "base_uri": "https://localhost:8080/"
        },
        "id": "O7iluqL4c-6l",
        "outputId": "d50eb940-8a13-4609-cc10-43147d226eef"
      },
      "source": [
        "print(\"country Malawi has 5,875 refugees\")\n",
        "print(\"country Algeria has 90,000 refugees\")\n",
        "print(\"country Bostwana has 2,833 refugess\")\n",
        "print(\"country Burundi has 7,001 refugees\")\n",
        "print(\"country Liberia has 5,275 refugees\")"
      ],
      "execution_count": 61,
      "outputs": [
        {
          "output_type": "stream",
          "text": [
            "country Malawi has 5,875 refugees\n",
            "country Algeria has 90,000 refugees\n",
            "country Bostwana has 2,833 refugess\n",
            "country Burundi has 7,001 refugees\n",
            "country liberia has 5,275 refugees\n"
          ],
          "name": "stdout"
        }
      ]
    }
  ]
}