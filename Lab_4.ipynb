{
  "nbformat": 4,
  "nbformat_minor": 0,
  "metadata": {
    "colab": {
      "name": "Lab 4.ipynb",
      "provenance": [],
      "authorship_tag": "ABX9TyMO1OgZ5P1csioEJpoIEkeH",
      "include_colab_link": true
    },
    "kernelspec": {
      "name": "python3",
      "display_name": "Python 3"
    },
    "language_info": {
      "name": "python"
    }
  },
  "cells": [
    {
      "cell_type": "markdown",
      "metadata": {
        "id": "view-in-github",
        "colab_type": "text"
      },
      "source": [
        "<a href=\"https://colab.research.google.com/github/twesaj/hello-world/blob/main/Lab_4.ipynb\" target=\"_parent\"><img src=\"https://colab.research.google.com/assets/colab-badge.svg\" alt=\"Open In Colab\"/></a>"
      ]
    },
    {
      "cell_type": "markdown",
      "metadata": {
        "id": "5AFqUq5NhqoB"
      },
      "source": [
        "# Twesa Mwaisemba \n",
        "# 03/25/2021\n",
        "# Lab 4 - String manipulation\n",
        "\n",
        "\n"
      ]
    },
    {
      "cell_type": "markdown",
      "metadata": {
        "id": "G-_hiMa1ie5m"
      },
      "source": [
        "Three short scripts created: one to capitalize portions of a string, one to parse and manipulate a multiline string, and one to extract a portion of a string and return in a way that is more understandable."
      ]
    },
    {
      "cell_type": "code",
      "metadata": {
        "colab": {
          "base_uri": "https://localhost:8080/"
        },
        "id": "Y0G9ZoIwOp2v",
        "outputId": "c366dc60-6dd8-4737-855c-c2bd8f4902c9"
      },
      "source": [
        "name = 'rubelily'\n",
        "x1 = name[:4].capitalize() # Split name to the first four letters and capitalize first letter\n",
        "print(x1)\n",
        "x2 = name[-4:].capitalize() # Split name to the last four letters and cpaitalize first letter\n",
        "print(x2)\n",
        "new_name = (x1 + x2) #Add the two names together \n",
        "print(new_name)"
      ],
      "execution_count": 102,
      "outputs": [
        {
          "output_type": "stream",
          "text": [
            "Rube\n",
            "Lily\n",
            "RubeLily\n"
          ],
          "name": "stdout"
        }
      ]
    },
    {
      "cell_type": "code",
      "metadata": {
        "colab": {
          "base_uri": "https://localhost:8080/",
          "height": 232
        },
        "id": "CHrV_x2F0H02",
        "outputId": "e0759128-342e-4b49-a29d-17337ba0facf"
      },
      "source": [
        "import requests # Import reqests library\n",
        "from bs4 import BeautifulSoup # Import the beautiful soup library\n",
        "url = 'https://www.google.com/maps/@42.2509428,-71.8249939,17z'\n",
        "print(url) #Print the Url\n",
        "page = requests.get(url) # A request is sent to the page to be stored in soup\n",
        "soup=BeautifulSoup(page.content,'html.parser')\n",
        "#Find the element on the website using find()\n",
        "long_lat = soup.find(\"span\", \"798\",\"latitude\").text    \n",
        "print(long_lat)\n"
      ],
      "execution_count": 129,
      "outputs": [
        {
          "output_type": "stream",
          "text": [
            "https://www.google.com/maps/@42.2509428,-71.8249939,17z\n"
          ],
          "name": "stdout"
        },
        {
          "output_type": "error",
          "ename": "AttributeError",
          "evalue": "ignored",
          "traceback": [
            "\u001b[0;31m---------------------------------------------------------------------------\u001b[0m",
            "\u001b[0;31mAttributeError\u001b[0m                            Traceback (most recent call last)",
            "\u001b[0;32m<ipython-input-129-8d0e6bc0d1fd>\u001b[0m in \u001b[0;36m<module>\u001b[0;34m()\u001b[0m\n\u001b[1;32m      6\u001b[0m \u001b[0msoup\u001b[0m\u001b[0;34m=\u001b[0m\u001b[0mBeautifulSoup\u001b[0m\u001b[0;34m(\u001b[0m\u001b[0mpage\u001b[0m\u001b[0;34m.\u001b[0m\u001b[0mcontent\u001b[0m\u001b[0;34m,\u001b[0m\u001b[0;34m'html.parser'\u001b[0m\u001b[0;34m)\u001b[0m\u001b[0;34m\u001b[0m\u001b[0;34m\u001b[0m\u001b[0m\n\u001b[1;32m      7\u001b[0m \u001b[0;31m#Find the element on the website using find()\u001b[0m\u001b[0;34m\u001b[0m\u001b[0;34m\u001b[0m\u001b[0;34m\u001b[0m\u001b[0m\n\u001b[0;32m----> 8\u001b[0;31m \u001b[0mlong_lat\u001b[0m \u001b[0;34m=\u001b[0m \u001b[0msoup\u001b[0m\u001b[0;34m.\u001b[0m\u001b[0mfind\u001b[0m\u001b[0;34m(\u001b[0m\u001b[0;34m\"span\"\u001b[0m\u001b[0;34m,\u001b[0m \u001b[0;34m\"798\"\u001b[0m\u001b[0;34m,\u001b[0m\u001b[0;34m\"latitude\"\u001b[0m\u001b[0;34m)\u001b[0m\u001b[0;34m.\u001b[0m\u001b[0mtext\u001b[0m\u001b[0;34m\u001b[0m\u001b[0;34m\u001b[0m\u001b[0m\n\u001b[0m\u001b[1;32m      9\u001b[0m \u001b[0mprint\u001b[0m\u001b[0;34m(\u001b[0m\u001b[0mlong_lat\u001b[0m\u001b[0;34m)\u001b[0m\u001b[0;34m\u001b[0m\u001b[0;34m\u001b[0m\u001b[0m\n",
            "\u001b[0;31mAttributeError\u001b[0m: 'NoneType' object has no attribute 'text'"
          ]
        }
      ]
    },
    {
      "cell_type": "code",
      "metadata": {
        "colab": {
          "base_uri": "https://localhost:8080/"
        },
        "id": "rU2KKhiTKcvt",
        "outputId": "bc727061-aee0-4c30-e942-b6f5046f55cd"
      },
      "source": [
        "\n",
        "# Scraped multi-line String\n",
        "forecast = '''\n",
        "Tonight\n",
        "ClearLow: 55 F\n",
        "Thursday\n",
        "Sunny thenChanceShowersHigh: 77 F\n",
        "Friday\n",
        "SunnyHigh: 73 F\n",
        "Saturday\n",
        "Mostly SunnyHigh: 77 F\n",
        "Sunday\n",
        "Mostly SunnyHigh: 71 F\n",
        "'''\n",
        "\n",
        "#Split string into a list\n",
        "#Use two blank lines (n/n) as the separator\n",
        "forecast_list = (\"Tonight \\n ClearLow: 55F\\n\\n Thursday\\n SunnythenChanceShowers High: 77F\\n\\n Friday\\n SunnyHigh:73F\\n\\n Saturday\\n Mostly SunnyHigh: 77 F\\n\\n Sunday\\n\\n SunnyHigh 71 F\")\n",
        "print(forecast_list)\n",
        "\n",
        "# Creates a list item at every instance of separator\n",
        "forecast_list = forecast.split('\\n\\n')\n",
        "\n",
        "# Loop through list to make string replacements to each item\n",
        "# Remove extra whitespaces or lines for a cleaner format\n",
        "for day in forecast_list:\n",
        "    day = day.replace('\\n',': ')\n",
        "    print(day)\n"
      ],
      "execution_count": 115,
      "outputs": [
        {
          "output_type": "stream",
          "text": [
            "Tonight \n",
            " ClearLow: 55F\n",
            "\n",
            " Thursday\n",
            " SunnythenChanceShowers High: 77F\n",
            "\n",
            " Friday\n",
            " SunnyHigh:73F\n",
            "\n",
            " Saturday\n",
            " Mostly SunnyHigh: 77 F\n",
            "\n",
            " Sunday\n",
            "\n",
            " SunnyHigh 71 F\n",
            ": Tonight: ClearLow: 55 F: Thursday: Sunny thenChanceShowersHigh: 77 F: Friday: SunnyHigh: 73 F: Saturday: Mostly SunnyHigh: 77 F: Sunday: Mostly SunnyHigh: 71 F: \n"
          ],
          "name": "stdout"
        }
      ]
    }
  ]
}