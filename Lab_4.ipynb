{
  "nbformat": 4,
  "nbformat_minor": 0,
  "metadata": {
    "colab": {
      "name": "Lab 4.ipynb",
      "provenance": [],
      "authorship_tag": "ABX9TyOWyIk7c/MggsRdGxmkjoIO",
      "include_colab_link": true
    },
    "kernelspec": {
      "name": "python3",
      "display_name": "Python 3"
    },
    "language_info": {
      "name": "python"
    }
  },
  "cells": [
    {
      "cell_type": "markdown",
      "metadata": {
        "id": "view-in-github",
        "colab_type": "text"
      },
      "source": [
        "<a href=\"https://colab.research.google.com/github/twesaj/hello-world/blob/main/Lab_4.ipynb\" target=\"_parent\"><img src=\"https://colab.research.google.com/assets/colab-badge.svg\" alt=\"Open In Colab\"/></a>"
      ]
    },
    {
      "cell_type": "markdown",
      "metadata": {
        "id": "5AFqUq5NhqoB"
      },
      "source": [
        "# Twesa Mwaisemba \n",
        "# 03/25/2021\n",
        "# Lab 4 - String manipulation\n",
        "\n",
        "\n"
      ]
    },
    {
      "cell_type": "markdown",
      "metadata": {
        "id": "G-_hiMa1ie5m"
      },
      "source": [
        "Three short scripts created: one to capitalize portions of a string, one to parse and manipulate a multiline string, and one to extract a portion of a string and return in a way that is more understandable."
      ]
    },
    {
      "cell_type": "markdown",
      "metadata": {
        "id": "8EOk0azOB3Fm"
      },
      "source": [
        "# This script capitalizes the first and fourth letter of a name"
      ]
    },
    {
      "cell_type": "code",
      "metadata": {
        "colab": {
          "base_uri": "https://localhost:8080/"
        },
        "id": "Y0G9ZoIwOp2v",
        "outputId": "90eebadf-4649-4041-8226-d8f5bdc3bb27"
      },
      "source": [
        "name = 'rubelily'\n",
        "x1 = name[:4].capitalize() # Split name to the first four letters and capitalize first letter\n",
        "x2 = name[-4:].capitalize() # Split name to the last four letters and cpaitalize first letter\n",
        "new_name = (x1 + x2) #Add the two names together \n",
        "print(new_name)"
      ],
      "execution_count": 87,
      "outputs": [
        {
          "output_type": "stream",
          "text": [
            "RubeLily\n"
          ],
          "name": "stdout"
        }
      ]
    },
    {
      "cell_type": "markdown",
      "metadata": {
        "id": "HBgUqxheBqs8"
      },
      "source": [
        "# This script extracts the latitude and longitude from the url"
      ]
    },
    {
      "cell_type": "code",
      "metadata": {
        "colab": {
          "base_uri": "https://localhost:8080/"
        },
        "id": "-dXxxl3x8DvR",
        "outputId": "c30c8b0e-3f49-47e1-ffde-ed75cb419e52"
      },
      "source": [
        "url = 'https://www.google.com/maps/@42.2509428,-71.8249939,17z'\n",
        "print('latitude: '+ url[-26:-16]) # split the url using the index function from both right and left side and print\n",
        "print('longitude: ' + url[-15:-4]) # split the url using the index function from both right and left side and print\n"
      ],
      "execution_count": 101,
      "outputs": [
        {
          "output_type": "stream",
          "text": [
            "latitude: 42.2509428\n",
            "longitude: -71.8249939\n"
          ],
          "name": "stdout"
        }
      ]
    },
    {
      "cell_type": "markdown",
      "metadata": {
        "id": "aG6XSQ40CBdu"
      },
      "source": [
        "# This script splits a string into a list"
      ]
    },
    {
      "cell_type": "code",
      "metadata": {
        "colab": {
          "base_uri": "https://localhost:8080/"
        },
        "id": "rU2KKhiTKcvt",
        "outputId": "bc727061-aee0-4c30-e942-b6f5046f55cd"
      },
      "source": [
        "\n",
        "# Scraped multi-line String\n",
        "forecast = '''\n",
        "Tonight\n",
        "ClearLow: 55 F\n",
        "Thursday\n",
        "Sunny thenChanceShowersHigh: 77 F\n",
        "Friday\n",
        "SunnyHigh: 73 F\n",
        "Saturday\n",
        "Mostly SunnyHigh: 77 F\n",
        "Sunday\n",
        "Mostly SunnyHigh: 71 F\n",
        "'''\n",
        "\n",
        "#Split string into a list\n",
        "#Use two blank lines (n/n) as the separator\n",
        "forecast_list = (\"Tonight \\n ClearLow: 55F\\n\\n Thursday\\n SunnythenChanceShowers High: 77F\\n\\n Friday\\n SunnyHigh:73F\\n\\n Saturday\\n Mostly SunnyHigh: 77 F\\n\\n Sunday\\n\\n SunnyHigh 71 F\")\n",
        "print(forecast_list)\n",
        "\n",
        "# Creates a list item at every instance of separator\n",
        "forecast_list = forecast.split('\\n\\n')\n",
        "\n",
        "# Loop through list to make string replacements to each item\n",
        "# Remove extra whitespaces or lines for a cleaner format\n",
        "for day in forecast_list:\n",
        "    day = day.replace('\\n',': ')\n",
        "    print(day)\n"
      ],
      "execution_count": null,
      "outputs": [
        {
          "output_type": "stream",
          "text": [
            "Tonight \n",
            " ClearLow: 55F\n",
            "\n",
            " Thursday\n",
            " SunnythenChanceShowers High: 77F\n",
            "\n",
            " Friday\n",
            " SunnyHigh:73F\n",
            "\n",
            " Saturday\n",
            " Mostly SunnyHigh: 77 F\n",
            "\n",
            " Sunday\n",
            "\n",
            " SunnyHigh 71 F\n",
            ": Tonight: ClearLow: 55 F: Thursday: Sunny thenChanceShowersHigh: 77 F: Friday: SunnyHigh: 73 F: Saturday: Mostly SunnyHigh: 77 F: Sunday: Mostly SunnyHigh: 71 F: \n"
          ],
          "name": "stdout"
        }
      ]
    }
  ]
}