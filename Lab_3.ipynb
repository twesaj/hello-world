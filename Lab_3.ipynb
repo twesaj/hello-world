{
  "nbformat": 4,
  "nbformat_minor": 0,
  "metadata": {
    "colab": {
      "name": "Lab 3.ipynb",
      "provenance": [],
      "authorship_tag": "ABX9TyN6ffm0Tpua0dEL2YRPa9C2",
      "include_colab_link": true
    },
    "kernelspec": {
      "name": "python3",
      "display_name": "Python 3"
    },
    "language_info": {
      "name": "python"
    }
  },
  "cells": [
    {
      "cell_type": "markdown",
      "metadata": {
        "id": "view-in-github",
        "colab_type": "text"
      },
      "source": [
        "<a href=\"https://colab.research.google.com/github/twesaj/hello-world/blob/main/Lab_3.ipynb\" target=\"_parent\"><img src=\"https://colab.research.google.com/assets/colab-badge.svg\" alt=\"Open In Colab\"/></a>"
      ]
    },
    {
      "cell_type": "markdown",
      "metadata": {
        "id": "FBFQ1qyt8og8"
      },
      "source": [
        "# TWESA MWAISEMBA\n",
        "# LAB 3 - WEB-SCRAPING CURRENT WEATHER CONDITIONS \n",
        "# 03/21/2021\n"
      ]
    },
    {
      "cell_type": "markdown",
      "metadata": {
        "id": "ZtlEj_cv-xWJ"
      },
      "source": [
        "# This scripts web scrapes the weather.gov website to extract current weather conditions for the city of Miami in the U.S\n",
        "#Inputs: latitude & Longtitude in Decimal degrees\n",
        "#Outputs : Current Weather conditions"
      ]
    },
    {
      "cell_type": "code",
      "metadata": {
        "colab": {
          "base_uri": "https://localhost:8080/"
        },
        "id": "eatgUnMmqxwm",
        "outputId": "09ee446f-90e2-4440-a628-4c50f8050edf"
      },
      "source": [
        "\n",
        "# Import required libraries\n",
        "import requests\n",
        "from bs4 import BeautifulSoup\n",
        "\n",
        "# Provide the latitude and longitude for the location you would like to check the weather for\n",
        "# Lat/lon in decimal degrees provided for Miami, Fl\n",
        "lat = '25.761681'\n",
        "lon = '-80.191788'\n",
        "\n",
        "# Create url for the requested location through string concatenation\n",
        "url = 'https://forecast.weather.gov/MapClick.php?lat='+lat+\"&lon=\"+lon\n",
        "# Check if the URL exists\n",
        "# print url\n",
        "\n",
        "# Send request to retrieve the web-page using the get() function from the requests library\n",
        "# The page variable stores the response from the web-page\n",
        "page = requests.get(url)\n",
        "\n",
        "# Create a BeautifulSoup object with the response from the URL\n",
        "# Access contents of the web-page using .content\n",
        "# html_parser is used since our page is in HTML format\n",
        "soup=BeautifulSoup(page.content,\"html.parser\")\n",
        "\n",
        "# Locate element on page to be scraped\n",
        "# This element is located within an id tag called current_conditions-summary\n",
        "# find() locates the element in the BeautifulSoup object\n",
        "cur_weather_conditions = soup.find(id=\"current_conditions_detail\")\n",
        "\n",
        "# Extract text from the selected BeautifulSoup object using .text\n",
        "cur_weather_conditions = cur_weather_conditions.text\n",
        "\n",
        "# Final Output\n",
        "# Return scraped information\n",
        "print('The Current Weather Conditions at '+ lat +  \", \" + lon + \" is:\" + cur_weather_conditions)\n"
      ],
      "execution_count": null,
      "outputs": [
        {
          "output_type": "stream",
          "text": [
            "The Current Weather Conditions at 25.761681, -80.191788 is:\n",
            "\n",
            "\n",
            "Humidity\n",
            "67%\n",
            "\n",
            "\n",
            "Wind Speed\n",
            "SE 20 G 29 mph\n",
            "\n",
            "\n",
            "Barometer\n",
            "30.01 in (1016.1 mb)\n",
            "\n",
            "\n",
            "Dewpoint\n",
            "71°F (22°C)\n",
            "\n",
            "\n",
            "Visibility\n",
            "10.00 mi\n",
            "\n",
            "Heat Index88°F (31°C) \n",
            "Last update\n",
            "\n",
            "                18 Mar 1:53 pm EDT            \n",
            "\n",
            "\n",
            "\n"
          ],
          "name": "stdout"
        }
      ]
    },
    {
      "cell_type": "markdown",
      "metadata": {
        "id": "HOfqfJfC_MPY"
      },
      "source": [
        "# This scripts web scrapes the weather.gov website to extract current weather conditions for the city of Miami in the U.S\n",
        "# Inputs: latitude & Longtitude in Decimal degrees\n",
        "#Outputs : Current Weather conditions"
      ]
    },
    {
      "cell_type": "code",
      "metadata": {
        "colab": {
          "base_uri": "https://localhost:8080/"
        },
        "id": "ShaEdW-msFbB",
        "outputId": "d0eedac7-6373-4243-879a-7d4437f32a33"
      },
      "source": [
        "\n",
        "# Import required libraries\n",
        "import requests\n",
        "from bs4 import BeautifulSoup\n",
        "\n",
        "# Provide the latitude and longitude for the location you would like to check the weather for\n",
        "# Lat/lon in decimal degrees provided for Miami, Fl\n",
        "lat = '25.761681'\n",
        "lon = '-80.191788'\n",
        "\n",
        "# Create url for the requested location through string concatenation\n",
        "url = 'https://forecast.weather.gov/MapClick.php?lat='+lat+\"&lon=\"+lon\n",
        "# Check if the URL exists\n",
        "# print url\n",
        "\n",
        "# Send request to retrieve the web-page using the get() function from the requests library\n",
        "# The page variable stores the response from the web-page\n",
        "page = requests.get(url)\n",
        "\n",
        "# Create a BeautifulSoup object with the response from the URL\n",
        "# Access contents of the web-page using .content\n",
        "# html_parser is used since our page is in HTML format\n",
        "soup=BeautifulSoup(page.content,\"html.parser\")\n",
        "\n",
        "# Locate element on page to be scraped\n",
        "# This element is located within an id tag called current_conditions-summary\n",
        "# find() locates the element in the BeautifulSoup object\n",
        "cur_weather_conditions = soup.find(id=\"current_conditions-summary\")\n",
        "\n",
        "# Extract text from the selected BeautifulSoup object using .text\n",
        "cur_weather_conditions = cur_weather_conditions.text\n",
        "\n",
        "# Final Output\n",
        "# Return scraped information\n",
        "print('The Current Weather Conditions at '+ lat +  \", \" + lon + \" is:\" + cur_weather_conditions)\n"
      ],
      "execution_count": null,
      "outputs": [
        {
          "output_type": "stream",
          "text": [
            "The Current Weather Conditions at 25.761681, -80.191788 is:\n",
            "\n",
            "Partly Cloudy\n",
            "83°F\n",
            "28°C\n",
            "\n"
          ],
          "name": "stdout"
        }
      ]
    }
  ]
}